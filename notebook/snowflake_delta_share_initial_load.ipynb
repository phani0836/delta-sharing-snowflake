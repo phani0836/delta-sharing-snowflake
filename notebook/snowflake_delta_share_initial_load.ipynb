{
 "cells": [
  {
   "cell_type": "markdown",
   "id": "a1564ec7",
   "metadata": {},
   "source": [
    "# Databricks Delta Share to Snowflake - Initial Load Notebook"
   ]
  },
  {
   "cell_type": "code",
   "execution_count": null,
   "id": "2ed978fe",
   "metadata": {},
   "outputs": [],
   "source": [
    "!pip install delta-sharing  # Install the delta-sharing library"
   ]
  },
  {
   "cell_type": "code",
   "execution_count": null,
   "id": "ade75eae",
   "metadata": {},
   "outputs": [],
   "source": [
    "from snowflake.snowpark.context import get_active_session\n",
    "session = get_active_session()"
   ]
  },
  {
   "cell_type": "code",
   "execution_count": null,
   "id": "0a9e4bc7",
   "metadata": {},
   "outputs": [],
   "source": [
    "import delta_sharing\n",
    "import os"
   ]
  },
  {
   "cell_type": "code",
   "execution_count": null,
   "id": "6be7d50b",
   "metadata": {},
   "outputs": [],
   "source": [
    "# Download the share profile\n",
    "stage_path = \"@HOL_ICE_DB.PUBLIC.DELTA_SHARE_STAGE/config.share\"\n",
    "local_dir  = \"/tmp\"\n",
    "session.file.get(stage_path, local_dir)\n",
    "profile_file = os.path.join(local_dir, \"config.share\")"
   ]
  },
  {
   "cell_type": "code",
   "execution_count": null,
   "id": "2df29340",
   "metadata": {},
   "outputs": [],
   "source": [
    "# Instantiate the delta‐sharing client\n",
    "client = delta_sharing.SharingClient(profile_file)"
   ]
  },
  {
   "cell_type": "code",
   "execution_count": null,
   "id": "78151bf2",
   "metadata": {},
   "outputs": [],
   "source": [
    "# Load the shared table into a pandas DataFrame\n",
    "pdf = delta_sharing.load_as_pandas(f\"{profile_file}#demo_delta_share.default.customers\")"
   ]
  },
  {
   "cell_type": "code",
   "execution_count": null,
   "id": "cba11f61",
   "metadata": {},
   "outputs": [],
   "source": [
    "# Convert to Snowpark DF and write out\n",
    "sp_df = session.create_dataframe(pdf)\n",
    "sp_df.write.save_as_table(\"DELTA_SHARE_LOADED\", mode=\"append\")"
   ]
  },
  {
   "cell_type": "code",
   "execution_count": null,
   "id": "4420278f",
   "metadata": {},
   "outputs": [],
   "source": [
    "# Define your target table (with database & schema if needed)\n",
    "target_table = \"hol_ice_db.PUBLIC.DELTA_SHARE_LOADED\""
   ]
  },
  {
   "cell_type": "code",
   "execution_count": null,
   "id": "50e330ba",
   "metadata": {},
   "outputs": [],
   "source": [
    "# Overwrite (or append) that table with your DataFrame contents\n",
    "sp_df.write.save_as_table(target_table, mode=\"append\")"
   ]
  },
  {
   "cell_type": "code",
   "execution_count": null,
   "id": "488ee02c",
   "metadata": {},
   "outputs": [],
   "source": [
    "# (Optional) Verify in Snowflake via SQL\n",
    "print(session.sql(f\"SELECT COUNT(*) AS CNT FROM {target_table}\").collect())"
   ]
  }
 ],
 "metadata": {},
 "nbformat": 4,
 "nbformat_minor": 5
}